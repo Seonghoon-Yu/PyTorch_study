{
  "nbformat": 4,
  "nbformat_minor": 0,
  "metadata": {
    "colab": {
      "name": "ch01_Basic_CNN_model.ipynb",
      "provenance": [],
      "collapsed_sections": [],
      "authorship_tag": "ABX9TyMpjFFGqE8JdtC70B/AhE03",
      "include_colab_link": true
    },
    "kernelspec": {
      "name": "python3",
      "display_name": "Python 3"
    },
    "accelerator": "GPU"
  },
  "cells": [
    {
      "cell_type": "markdown",
      "metadata": {
        "id": "view-in-github",
        "colab_type": "text"
      },
      "source": [
        "<a href=\"https://colab.research.google.com/github/Seonghoon-Yu/PyTorch_study/blob/main/ch01/ch01_Basic_CNN_model.ipynb\" target=\"_parent\"><img src=\"https://colab.research.google.com/assets/colab-badge.svg\" alt=\"Open In Colab\"/></a>"
      ]
    },
    {
      "cell_type": "code",
      "metadata": {
        "colab": {
          "base_uri": "https://localhost:8080/"
        },
        "id": "2QcxfmiMP4p0",
        "outputId": "5b639426-b08f-4ac8-d1a7-847bf18ae36c"
      },
      "source": [
        "from google.colab import drive\r\n",
        "drive.mount('cookbook')"
      ],
      "execution_count": null,
      "outputs": [
        {
          "output_type": "stream",
          "text": [
            "Drive already mounted at cookbook; to attempt to forcibly remount, call drive.mount(\"cookbook\", force_remount=True).\n"
          ],
          "name": "stdout"
        }
      ]
    },
    {
      "cell_type": "markdown",
      "metadata": {
        "id": "12R6SHrKQe-W"
      },
      "source": [
        "# CUDA check"
      ]
    },
    {
      "cell_type": "code",
      "metadata": {
        "colab": {
          "base_uri": "https://localhost:8080/"
        },
        "id": "oPHwUz8rQtoS",
        "outputId": "0e4c1147-aa34-4b20-95ab-fe8ef9eafc0d"
      },
      "source": [
        "import torch\r\n",
        "if torch.cuda.is_available():\r\n",
        "    device = torch.device('cuda:0')\r\n",
        "else:\r\n",
        "    device = torch.device('cpu')\r\n",
        "print(device)\r\n"
      ],
      "execution_count": null,
      "outputs": [
        {
          "output_type": "stream",
          "text": [
            "cuda:0\n"
          ],
          "name": "stdout"
        }
      ]
    },
    {
      "cell_type": "markdown",
      "metadata": {
        "id": "hPXaQ83q9cKJ"
      },
      "source": [
        "# data 불러오고 처리하기"
      ]
    },
    {
      "cell_type": "markdown",
      "metadata": {
        "id": "uGILWoQUQGok"
      },
      "source": [
        "## 1. MNIST 데이터셋에 적용할 transformation 객체를 생성합니다."
      ]
    },
    {
      "cell_type": "code",
      "metadata": {
        "id": "V2hkXfT_QKrJ"
      },
      "source": [
        "# define a transformation class in order to apply some image transformation on the MNIST dataset\r\n",
        "from torchvision import transforms\r\n",
        "\r\n",
        "# define transformations\r\n",
        "data_transform = transforms.Compose([\r\n",
        "            transforms.RandomHorizontalFlip(1),\r\n",
        "            transforms.RandomVerticalFlip(1),\r\n",
        "            transforms.ToTensor(),\r\n",
        "])\r\n",
        "\r\n",
        "# "
      ],
      "execution_count": null,
      "outputs": []
    },
    {
      "cell_type": "markdown",
      "metadata": {
        "id": "fJA3T5yOWLtd"
      },
      "source": [
        "## 2. MNIST datasets 을 불러오고 transform을 적용합니다."
      ]
    },
    {
      "cell_type": "code",
      "metadata": {
        "id": "s3qkkdNXV6Wj",
        "colab": {
          "base_uri": "https://localhost:8080/",
          "height": 261
        },
        "outputId": "e0eea47b-fed4-42ca-fc09-c5d09bd2375c"
      },
      "source": [
        "# load MNIST training dataset\r\n",
        "from torchvision import datasets\r\n",
        "\r\n",
        "# path to store data\r\n",
        "path2data = './data'\r\n",
        "\r\n",
        "# load training data\r\n",
        "train_data = datasets.MNIST(path2data, train=True, download=True, transform=data_transform)\r\n",
        "\r\n",
        "\r\n",
        "# extract the input data and target labels\r\n",
        "x_train, y_train = train_data.data, train_data.targets\r\n",
        "\r\n",
        "# load the MNIST test dataset\r\n",
        "# load validation data without data transformation\r\n",
        "val_data = datasets.MNIST(path2data, train=False, download=True)\r\n",
        "\r\n",
        "# extract the data and targets\r\n",
        "x_val, y_val = val_data.data, val_data.targets\r\n",
        "\r\n",
        "# add a new dimension to the tensors to become B*C*H*W\r\n",
        "if len(x_train.shape) == 3:\r\n",
        "    x_train = x_train.unsqueeze(1) # add one dimension at 1 index\r\n",
        "\r\n",
        "if len(x_val.shape) == 3:\r\n",
        "    x_val = x_val.unsqueeze(1)\r\n",
        "\r\n",
        "# check a few sample images\r\n",
        "from torchvision import utils\r\n",
        "import matplotlib.pyplot as plt\r\n",
        "import numpy as np\r\n",
        "\r\n",
        "# Allows you to view the picture directly from the browser that ran notebook\r\n",
        "%matplotlib inline\r\n",
        "\r\n",
        "# define a helper function to display tensors as images\r\n",
        "def show(img):\r\n",
        "    # convert tensor to numpy array\r\n",
        "    npimg = img.numpy()\r\n",
        "    # convert to H*W*C shape from C*H*W\r\n",
        "    npimg_tr = npimg.transpose((1,2,0))\r\n",
        "    plt.imshow(npimg_tr, interpolation='nearest')\r\n",
        "\r\n",
        "# create a grid of images and display them\r\n",
        "# make a grid of 40 images, 8 images per row\r\n",
        "x_grid = utils.make_grid(x_train[:40], nrow=8, padding=2) # padding means edge pixel\r\n",
        "\r\n",
        "# call helper function\r\n",
        "show(x_grid)"
      ],
      "execution_count": null,
      "outputs": [
        {
          "output_type": "display_data",
          "data": {
            "image/png": "[encoded data removed]",
            "text/plain": [
              "<Figure size 432x288 with 1 Axes>"
            ]
          },
          "metadata": {
            "tags": [],
            "needs_background": "light"
          }
        }
      ]
    },
    {
      "cell_type": "code",
      "metadata": {
        "colab": {
          "base_uri": "https://localhost:8080/",
          "height": 299
        },
        "id": "WGph7tJC4efE",
        "outputId": "2ed38e58-4577-46a6-c9bf-8fdaf618dc9a"
      },
      "source": [
        "# check transpose\r\n",
        "img = train_data[0][0]\r\n",
        "img_np = img.numpy().squeeze(0)\r\n",
        "\r\n",
        "plt.imshow(img_np,cmap='gray')\r\n",
        "plt.title('transpose')"
      ],
      "execution_count": null,
      "outputs": [
        {
          "output_type": "execute_result",
          "data": {
            "text/plain": [
              "Text(0.5, 1.0, 'transpose')"
            ]
          },
          "metadata": {
            "tags": []
          },
          "execution_count": 16
        },
        {
          "output_type": "display_data",
          "data": {
            "image/png": "[encoded data removed]",
            "text/plain": [
              "<Figure size 432x288 with 1 Axes>"
            ]
          },
          "metadata": {
            "tags": [],
            "needs_background": "light"
          }
        }
      ]
    },
    {
      "cell_type": "markdown",
      "metadata": {
        "id": "lvodT0o_4oW2"
      },
      "source": [
        "## 3. tensors를 dataset으로 감쌉니다."
      ]
    },
    {
      "cell_type": "code",
      "metadata": {
        "id": "B_abVuv4WWVs"
      },
      "source": [
        "# create a PyTorch dataset by wrapping x_train and y_train\r\n",
        "from torch.utils.data import TensorDataset\r\n",
        "\r\n",
        "# wrap tensors into a dataset\r\n",
        "train_ds = TensorDataset(x_train, y_train)\r\n",
        "val_ds = TensorDataset(x_val, y_val)"
      ],
      "execution_count": null,
      "outputs": []
    },
    {
      "cell_type": "markdown",
      "metadata": {
        "id": "73xWbCPR85O9"
      },
      "source": [
        "## 4. data loader를 생성합니다."
      ]
    },
    {
      "cell_type": "code",
      "metadata": {
        "id": "RVZZpKcl454u"
      },
      "source": [
        "# create two data loaders for the training and validaiton datasets\r\n",
        "from torch.utils.data import DataLoader\r\n",
        "\r\n",
        "# create a data loader from dataset\r\n",
        "train_dl = DataLoader(train_ds, batch_size=8)\r\n",
        "val_dl = DataLoader(val_ds, batch_size=8)"
      ],
      "execution_count": null,
      "outputs": []
    },
    {
      "cell_type": "markdown",
      "metadata": {
        "id": "TEGPNTvR9hEz"
      },
      "source": [
        "# 모델 구축하기"
      ]
    },
    {
      "cell_type": "markdown",
      "metadata": {
        "id": "WizsJE6O9nAI"
      },
      "source": [
        "## 1. nn.Module을 사용해서 모델을 정의합니다."
      ]
    },
    {
      "cell_type": "code",
      "metadata": {
        "colab": {
          "base_uri": "https://localhost:8080/"
        },
        "id": "IQm416jR9mQX",
        "outputId": "0ee304b1-a498-4d88-b3fc-86da53c60d2b"
      },
      "source": [
        "from torch import nn\r\n",
        "import torch.nn.functional as F\r\n",
        "\r\n",
        "class Net(nn.Module):\r\n",
        "    def __init__(self):\r\n",
        "        super(Net,self).__init__()\r\n",
        "        self.conv1 = nn.Conv2d(1, 20, 5, 1) # input, output, kernel_size, stride\r\n",
        "        self.conv2 = nn.Conv2d(20, 50, 5, 1)\r\n",
        "        self.fc1 = nn.Linear(4*4*50, 500)\r\n",
        "        self.fc2 = nn.Linear(500, 10)\r\n",
        "\r\n",
        "    def forward(self, x):\r\n",
        "        x = F.relu(self.conv1(x))\r\n",
        "        x = F.max_pool2d(x, 2, 2)\r\n",
        "        x = F.relu(self.conv2(x))\r\n",
        "        x = F.max_pool2d(x, 2, 2)\r\n",
        "        x = x.view(-1, 4*4*50)\r\n",
        "        x = F.relu(self.fc1(x))\r\n",
        "        x = self.fc2(x)\r\n",
        "        return F.log_softmax(x, dim=1)\r\n",
        "\r\n",
        "model = Net()\r\n",
        "print(model)"
      ],
      "execution_count": null,
      "outputs": [
        {
          "output_type": "stream",
          "text": [
            "Net(\n",
            "  (conv1): Conv2d(1, 20, kernel_size=(5, 5), stride=(1, 1))\n",
            "  (conv2): Conv2d(20, 50, kernel_size=(5, 5), stride=(1, 1))\n",
            "  (fc1): Linear(in_features=800, out_features=500, bias=True)\n",
            "  (fc2): Linear(in_features=500, out_features=10, bias=True)\n",
            ")\n"
          ],
          "name": "stdout"
        }
      ]
    },
    {
      "cell_type": "markdown",
      "metadata": {
        "id": "aRD7yCVj_oR-"
      },
      "source": [
        "## 2. 모델을 CUDA로 전달합니다."
      ]
    },
    {
      "cell_type": "code",
      "metadata": {
        "colab": {
          "base_uri": "https://localhost:8080/"
        },
        "id": "REdT0cKj-dXS",
        "outputId": "47ace0e3-163e-4d9f-bbc7-7cacebe2c331"
      },
      "source": [
        "# move the model to the CUDA device\r\n",
        "model.to(device)\r\n",
        "print(next(model.parameters()).device)"
      ],
      "execution_count": null,
      "outputs": [
        {
          "output_type": "stream",
          "text": [
            "cuda:0\n"
          ],
          "name": "stdout"
        }
      ]
    },
    {
      "cell_type": "markdown",
      "metadata": {
        "id": "5dRJvBBY_49A"
      },
      "source": [
        "## 3. 모델 요약본을 출력합니다."
      ]
    },
    {
      "cell_type": "code",
      "metadata": {
        "colab": {
          "base_uri": "https://localhost:8080/"
        },
        "id": "2fWlFFUd_0PV",
        "outputId": "dfe69c3b-a03e-4b0c-ac08-207e83b88a40"
      },
      "source": [
        "from torchsummary import summary\r\n",
        "summary(model, input_size=(1, 28, 28))"
      ],
      "execution_count": null,
      "outputs": [
        {
          "output_type": "stream",
          "text": [
            "----------------------------------------------------------------\n",
            "        Layer (type)               Output Shape         Param #\n",
            "================================================================\n",
            "            Conv2d-1           [-1, 20, 24, 24]             520\n",
            "            Conv2d-2             [-1, 50, 8, 8]          25,050\n",
            "            Linear-3                  [-1, 500]         400,500\n",
            "            Linear-4                   [-1, 10]           5,010\n",
            "================================================================\n",
            "Total params: 431,080\n",
            "Trainable params: 431,080\n",
            "Non-trainable params: 0\n",
            "----------------------------------------------------------------\n",
            "Input size (MB): 0.00\n",
            "Forward/backward pass size (MB): 0.12\n",
            "Params size (MB): 1.64\n",
            "Estimated Total Size (MB): 1.76\n",
            "----------------------------------------------------------------\n"
          ],
          "name": "stdout"
        }
      ]
    },
    {
      "cell_type": "markdown",
      "metadata": {
        "id": "A6bFBXuoAT0K"
      },
      "source": [
        "# loss function과 optimizer 정의하고 학습하기"
      ]
    },
    {
      "cell_type": "markdown",
      "metadata": {
        "id": "lZoh08VIAboq"
      },
      "source": [
        "## 1. loss function와 optimizer 정의하기"
      ]
    },
    {
      "cell_type": "code",
      "metadata": {
        "id": "Unm2Ha1wAPpB"
      },
      "source": [
        "from torch import nn\r\n",
        "from torch import optim\r\n",
        "\r\n",
        "# define the negative log-likelihood loss\r\n",
        "loss_func = nn.NLLLoss(reduction='sum')\r\n",
        "\r\n",
        "# define the Adam optimizer\r\n",
        "opt = optim.Adam(model.parameters(), lr=1e-4)"
      ],
      "execution_count": null,
      "outputs": []
    },
    {
      "cell_type": "markdown",
      "metadata": {
        "id": "uwd0IRp1B1jn"
      },
      "source": [
        "## 2. Training 하기"
      ]
    },
    {
      "cell_type": "code",
      "metadata": {
        "id": "AlyHDMoDAkcI",
        "colab": {
          "base_uri": "https://localhost:8080/"
        },
        "outputId": "1fc31eaf-6250-4995-f551-e672626d1a08"
      },
      "source": [
        "# define a helper function to compute the loss value per mini-batch\r\n",
        "def loss_batch(loss_func, xb, yb, yb_h, opt=None):\r\n",
        "    # obtain loss\r\n",
        "    loss = loss_func(yb_h, yb)\r\n",
        "    # obtain performance metric\r\n",
        "    metric_b = metrics_batch(yb, yb_h)\r\n",
        "    if opt is not None:\r\n",
        "        loss.backward() # compute gradients\r\n",
        "        opt.step() # update model parameters\r\n",
        "        opt.zero_grad() # set gradients to zero\r\n",
        "\r\n",
        "    return loss.item(), metric_b\r\n",
        "\r\n",
        "# define a helper function to compute the accurary per mini-batch\r\n",
        "def metrics_batch(target, output):\r\n",
        "    # optain output class\r\n",
        "    pred = output.argmax(dim=1, keepdim=True)\r\n",
        "    # compare output class with target class\r\n",
        "    corrects = pred.eq(target.view_as(pred)).sum().item()\r\n",
        "\r\n",
        "    return corrects\r\n",
        "\r\n",
        "# define a helper fuction to compute the loss and metric values for a dataset\r\n",
        "def loss_epoch(model, loss_func, dataset_dl, opt=None):\r\n",
        "    loss = 0.0\r\n",
        "    metric = 0.0\r\n",
        "    len_data = len(dataset_dl.dataset)\r\n",
        "\r\n",
        "    for xb, yb in dataset_dl:\r\n",
        "        xb = xb.type(torch.float).to(device)\r\n",
        "        yb = yb.to(device)\r\n",
        "        # obtain model output\r\n",
        "        yb_h = model(xb)\r\n",
        "\r\n",
        "        loss_b, metric_b = loss_batch(loss_func, xb, yb, yb_h, opt)\r\n",
        "        loss += loss_b\r\n",
        "        if metric_b is not None:\r\n",
        "            metric += metric_b\r\n",
        "    loss /= len_data\r\n",
        "    metric /= len_data\r\n",
        "    return loss, metric\r\n",
        "\r\n",
        "# define train_val function\r\n",
        "def train_val(epochs, model, loss_func, opt, train_dl, val_dl):\r\n",
        "    for epoch in range(epochs):\r\n",
        "        model.train() # convert to train mode\r\n",
        "        train_loss, train_metric = loss_epoch(model, loss_func, train_dl, opt)\r\n",
        "        model.eval() # convert to evaluation mode\r\n",
        "        with torch.no_grad():\r\n",
        "            val_loss, val_metric = loss_epoch(model, loss_func, val_dl)\r\n",
        "        accuracy = 100 * val_metric\r\n",
        "        print('epoch: %d, train loss: %.6f, val loss: %.6f, accuracy: %.2f' %(epoch, train_loss, val_loss, accuracy))\r\n",
        "\r\n",
        "# train model for a few epochs\r\n",
        "# call train_val function\r\n",
        "num_epochs = 5\r\n",
        "train_val(num_epochs, model, loss_func, opt, train_dl, val_dl)"
      ],
      "execution_count": null,
      "outputs": [
        {
          "output_type": "stream",
          "text": [
            "epoch: 0, train loss: 0.174201, val loss: 0.090728, accuracy: 96.85\n",
            "epoch: 1, train loss: 0.053224, val loss: 0.082158, accuracy: 97.64\n",
            "epoch: 2, train loss: 0.031839, val loss: 0.058576, accuracy: 98.53\n",
            "epoch: 3, train loss: 0.021631, val loss: 0.070456, accuracy: 98.30\n",
            "epoch: 4, train loss: 0.016621, val loss: 0.072368, accuracy: 98.49\n"
          ],
          "name": "stdout"
        }
      ]
    },
    {
      "cell_type": "markdown",
      "metadata": {
        "id": "N3DmRhrkSzI0"
      },
      "source": [
        "# model 저장하고 불러오기"
      ]
    },
    {
      "cell_type": "markdown",
      "metadata": {
        "id": "fUVofPlhWc2s"
      },
      "source": [
        "## 방법 1"
      ]
    },
    {
      "cell_type": "code",
      "metadata": {
        "colab": {
          "base_uri": "https://localhost:8080/"
        },
        "id": "3TYlCKuhSyhX",
        "outputId": "92841595-ece8-4266-befd-6143a9096cd8"
      },
      "source": [
        "# store the model parameters or state_dict in a file\r\n",
        "# define path2weights\r\n",
        "path2weights = './models/weight.pt'\r\n",
        "\r\n",
        "# check directory\r\n",
        "import os\r\n",
        "def createFolder(directory):\r\n",
        "    try:\r\n",
        "        if not os.path.exists(directory):\r\n",
        "            os.makedirs(directory)\r\n",
        "    except OSerror:\r\n",
        "        print('Error')\r\n",
        "createFolder('./models')\r\n",
        "\r\n",
        "# store state_dict to file\r\n",
        "torch.save(model.state_dict(), path2weights)\r\n",
        "\r\n",
        "# definc model : weights are randomly initiated\r\n",
        "_model = Net()\r\n",
        "\r\n",
        "# load weights from file\r\n",
        "weights = torch.load(path2weights)\r\n",
        "\r\n",
        "# set weights to model : weights are set with the stored values\r\n",
        "_model.load_state_dict(weights)\r\n"
      ],
      "execution_count": null,
      "outputs": [
        {
          "output_type": "execute_result",
          "data": {
            "text/plain": [
              "<All keys matched successfully>"
            ]
          },
          "metadata": {
            "tags": []
          },
          "execution_count": 31
        }
      ]
    },
    {
      "cell_type": "markdown",
      "metadata": {
        "id": "hBswfHXxXyNf"
      },
      "source": [
        "## 방법 2"
      ]
    },
    {
      "cell_type": "code",
      "metadata": {
        "id": "INgHnN6JXEhv"
      },
      "source": [
        "# store the model in a file\r\n",
        "# define a path2model\r\n",
        "path2model = './models/model.pt'\r\n",
        "\r\n",
        "# check directory\r\n",
        "import os\r\n",
        "def createFolder(directory):\r\n",
        "    try:\r\n",
        "        if not os.path.exists(directory):\r\n",
        "            os.makedirs(directory)\r\n",
        "    except OSerror:\r\n",
        "        print('Error')\r\n",
        "createFolder('./models')\r\n",
        "\r\n",
        "# store model and weights into a file\r\n",
        "torch.save(model, path2model)\r\n",
        "\r\n",
        "# define model : weights are randomly initiated\r\n",
        "_model = Net()\r\n",
        "\r\n",
        "# load the model from the local file\r\n",
        "_model = torch.load(path2model)"
      ],
      "execution_count": null,
      "outputs": []
    },
    {
      "cell_type": "markdown",
      "metadata": {
        "id": "3Rhz-4cHYfJE"
      },
      "source": [
        "# 추론하기"
      ]
    },
    {
      "cell_type": "code",
      "metadata": {
        "colab": {
          "base_uri": "https://localhost:8080/",
          "height": 283
        },
        "id": "SBmXtbhaYUsB",
        "outputId": "ac5a8cfd-7097-4adb-f210-a23c6fb6ad26"
      },
      "source": [
        "# pass new data to the model\r\n",
        "# To inference the model on a sample image from the validation dataset, get a sample data\r\n",
        "n = 100\r\n",
        "x = x_val[n]\r\n",
        "y = y_val[n]\r\n",
        "plt.imshow(x.numpy()[0],cmap='gray')\r\n",
        "\r\n",
        "# use unsqueeze to expand dimensions to 1*C*H*W\r\n",
        "x = x.unsqueeze(0)\r\n",
        "\r\n",
        "# convert the type to torch.float32\r\n",
        "x = x.type(torch.float)\r\n",
        "\r\n",
        "# move to cuda device\r\n",
        "x = x.to(device)\r\n",
        "\r\n",
        "# get the model prediction\r\n",
        "output = _model(x)\r\n",
        "\r\n",
        "# get predicted class\r\n",
        "pred = output.argmax(dim=1, keepdim=True)\r\n",
        "print(pred.item(), y.item())"
      ],
      "execution_count": null,
      "outputs": [
        {
          "output_type": "stream",
          "text": [
            "6 6\n"
          ],
          "name": "stdout"
        },
        {
          "output_type": "display_data",
          "data": {
            "image/png": "[encoded data removed]",
            "text/plain": [
              "<Figure size 432x288 with 1 Axes>"
            ]
          },
          "metadata": {
            "tags": [],
            "needs_background": "light"
          }
        }
      ]
    },
    {
      "cell_type": "code",
      "metadata": {
        "id": "zGwhN4h9Y6Vf"
      },
      "source": [
        ""
      ],
      "execution_count": null,
      "outputs": []
    }
  ]
}